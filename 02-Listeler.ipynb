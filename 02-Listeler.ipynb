{
 "cells": [
  {
   "cell_type": "code",
   "execution_count": 1,
   "id": "91f17943",
   "metadata": {},
   "outputs": [],
   "source": [
    "String = \"Fatma Birel\""
   ]
  },
  {
   "cell_type": "code",
   "execution_count": 2,
   "id": "5026e5cd",
   "metadata": {},
   "outputs": [],
   "source": [
    "# immutability & mutable"
   ]
  },
  {
   "cell_type": "code",
   "execution_count": 3,
   "id": "de263a7b",
   "metadata": {},
   "outputs": [],
   "source": [
    "Listem = [10,20,30,40]"
   ]
  },
  {
   "cell_type": "code",
   "execution_count": 4,
   "id": "ceb194d4",
   "metadata": {},
   "outputs": [
    {
     "data": {
      "text/plain": [
       "list"
      ]
     },
     "execution_count": 4,
     "metadata": {},
     "output_type": "execute_result"
    }
   ],
   "source": [
    "type(Listem)"
   ]
  },
  {
   "cell_type": "code",
   "execution_count": 5,
   "id": "7be6b71c",
   "metadata": {},
   "outputs": [],
   "source": [
    "benimNumaram = 10\n",
    "benimDigerNumaram = 20"
   ]
  },
  {
   "cell_type": "code",
   "execution_count": 6,
   "id": "7d270452",
   "metadata": {},
   "outputs": [],
   "source": [
    "benimNumaraListem = [benimNumaram,benimDigerNumaram]"
   ]
  },
  {
   "cell_type": "code",
   "execution_count": 7,
   "id": "a31c16c4",
   "metadata": {},
   "outputs": [
    {
     "data": {
      "text/plain": [
       "10"
      ]
     },
     "execution_count": 7,
     "metadata": {},
     "output_type": "execute_result"
    }
   ],
   "source": [
    "benimNumaraListem[0]"
   ]
  },
  {
   "cell_type": "code",
   "execution_count": 8,
   "id": "b23c4943",
   "metadata": {},
   "outputs": [],
   "source": [
    "Listem[0] = 100"
   ]
  },
  {
   "cell_type": "code",
   "execution_count": 9,
   "id": "8dcb1a46",
   "metadata": {},
   "outputs": [
    {
     "data": {
      "text/plain": [
       "[100, 20, 30, 40]"
      ]
     },
     "execution_count": 9,
     "metadata": {},
     "output_type": "execute_result"
    }
   ],
   "source": [
    "Listem"
   ]
  },
  {
   "cell_type": "code",
   "execution_count": 10,
   "id": "327b9d0b",
   "metadata": {},
   "outputs": [],
   "source": [
    "Listem.append(50)"
   ]
  },
  {
   "cell_type": "code",
   "execution_count": null,
   "id": "d22b748f",
   "metadata": {},
   "outputs": [],
   "source": []
  },
  {
   "cell_type": "code",
   "execution_count": 11,
   "id": "f3d367d0",
   "metadata": {},
   "outputs": [
    {
     "data": {
      "text/plain": [
       "[100, 20, 30, 40, 50]"
      ]
     },
     "execution_count": 11,
     "metadata": {},
     "output_type": "execute_result"
    }
   ],
   "source": [
    "Listem"
   ]
  },
  {
   "cell_type": "code",
   "execution_count": 12,
   "id": "13c1efe1",
   "metadata": {},
   "outputs": [
    {
     "data": {
      "text/plain": [
       "50"
      ]
     },
     "execution_count": 12,
     "metadata": {},
     "output_type": "execute_result"
    }
   ],
   "source": [
    "Listem.pop()"
   ]
  },
  {
   "cell_type": "code",
   "execution_count": 13,
   "id": "73a29fbc",
   "metadata": {},
   "outputs": [
    {
     "data": {
      "text/plain": [
       "[100, 20, 30, 40]"
      ]
     },
     "execution_count": 13,
     "metadata": {},
     "output_type": "execute_result"
    }
   ],
   "source": [
    "Listem"
   ]
  },
  {
   "cell_type": "code",
   "execution_count": 15,
   "id": "3b59fa1b",
   "metadata": {},
   "outputs": [],
   "source": [
    "Listem.remove(40)"
   ]
  },
  {
   "cell_type": "code",
   "execution_count": 18,
   "id": "cc192e13",
   "metadata": {},
   "outputs": [
    {
     "data": {
      "text/plain": [
       "1"
      ]
     },
     "execution_count": 18,
     "metadata": {},
     "output_type": "execute_result"
    }
   ],
   "source": [
    "Listem.count(20)"
   ]
  },
  {
   "cell_type": "code",
   "execution_count": 19,
   "id": "fad97ee6",
   "metadata": {},
   "outputs": [],
   "source": [
    "liste1 = [\"fatma\", \"birel\", \"zeynep\"]"
   ]
  },
  {
   "cell_type": "code",
   "execution_count": 20,
   "id": "93b6a215",
   "metadata": {},
   "outputs": [],
   "source": [
    "liste2 = [\"mehmet\",\"mahmut\",\"atlas\"]"
   ]
  },
  {
   "cell_type": "code",
   "execution_count": 21,
   "id": "e8322204",
   "metadata": {},
   "outputs": [],
   "source": [
    "toplama = liste1 + liste2"
   ]
  },
  {
   "cell_type": "code",
   "execution_count": 22,
   "id": "26fb4eae",
   "metadata": {},
   "outputs": [
    {
     "data": {
      "text/plain": [
       "['fatma', 'birel', 'zeynep', 'mehmet', 'mahmut', 'atlas']"
      ]
     },
     "execution_count": 22,
     "metadata": {},
     "output_type": "execute_result"
    }
   ],
   "source": [
    "toplama"
   ]
  },
  {
   "cell_type": "code",
   "execution_count": 23,
   "id": "75a77ce2",
   "metadata": {},
   "outputs": [
    {
     "data": {
      "text/plain": [
       "['fatma',\n",
       " 'birel',\n",
       " 'zeynep',\n",
       " 'mehmet',\n",
       " 'mahmut',\n",
       " 'atlas',\n",
       " 'fatma',\n",
       " 'birel',\n",
       " 'zeynep',\n",
       " 'mehmet',\n",
       " 'mahmut',\n",
       " 'atlas']"
      ]
     },
     "execution_count": 23,
     "metadata": {},
     "output_type": "execute_result"
    }
   ],
   "source": [
    "toplama * 2"
   ]
  },
  {
   "cell_type": "code",
   "execution_count": 24,
   "id": "5e79d03e",
   "metadata": {},
   "outputs": [],
   "source": [
    "toplama.reverse()"
   ]
  },
  {
   "cell_type": "code",
   "execution_count": 25,
   "id": "2f5df9b6",
   "metadata": {},
   "outputs": [
    {
     "data": {
      "text/plain": [
       "['atlas', 'mahmut', 'mehmet', 'zeynep', 'birel', 'fatma']"
      ]
     },
     "execution_count": 25,
     "metadata": {},
     "output_type": "execute_result"
    }
   ],
   "source": [
    "toplama"
   ]
  },
  {
   "cell_type": "code",
   "execution_count": 26,
   "id": "b5010ebf",
   "metadata": {},
   "outputs": [],
   "source": [
    "karisikListe = [1,2,3.5,\"fatma\",9]"
   ]
  },
  {
   "cell_type": "code",
   "execution_count": 27,
   "id": "3698f833",
   "metadata": {},
   "outputs": [
    {
     "data": {
      "text/plain": [
       "list"
      ]
     },
     "execution_count": 27,
     "metadata": {},
     "output_type": "execute_result"
    }
   ],
   "source": [
    "type(karisikListe)"
   ]
  },
  {
   "cell_type": "code",
   "execution_count": 32,
   "id": "b20321b7",
   "metadata": {},
   "outputs": [],
   "source": [
    "sonucum = karisikListe[3]"
   ]
  },
  {
   "cell_type": "code",
   "execution_count": 33,
   "id": "d69dd358",
   "metadata": {},
   "outputs": [
    {
     "data": {
      "text/plain": [
       "str"
      ]
     },
     "execution_count": 33,
     "metadata": {},
     "output_type": "execute_result"
    }
   ],
   "source": [
    "type(sonucum)"
   ]
  },
  {
   "cell_type": "code",
   "execution_count": 34,
   "id": "2da48a4d",
   "metadata": {},
   "outputs": [],
   "source": [
    "nestedList = [1,5,\"fatma\",4,[6,\"z\"]]"
   ]
  },
  {
   "cell_type": "code",
   "execution_count": 37,
   "id": "abf4f276",
   "metadata": {},
   "outputs": [],
   "source": [
    "zDegiskenim = nestedList[4][1]"
   ]
  },
  {
   "cell_type": "code",
   "execution_count": 38,
   "id": "160d7464",
   "metadata": {},
   "outputs": [
    {
     "data": {
      "text/plain": [
       "'z'"
      ]
     },
     "execution_count": 38,
     "metadata": {},
     "output_type": "execute_result"
    }
   ],
   "source": [
    "zDegiskenim"
   ]
  },
  {
   "cell_type": "code",
   "execution_count": null,
   "id": "bd827f79",
   "metadata": {},
   "outputs": [],
   "source": []
  }
 ],
 "metadata": {
  "kernelspec": {
   "display_name": "Python 3 (ipykernel)",
   "language": "python",
   "name": "python3"
  },
  "language_info": {
   "codemirror_mode": {
    "name": "ipython",
    "version": 3
   },
   "file_extension": ".py",
   "mimetype": "text/x-python",
   "name": "python",
   "nbconvert_exporter": "python",
   "pygments_lexer": "ipython3",
   "version": "3.9.13"
  }
 },
 "nbformat": 4,
 "nbformat_minor": 5
}
