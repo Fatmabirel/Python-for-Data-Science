{
 "cells": [
  {
   "cell_type": "markdown",
   "id": "8c2e2645",
   "metadata": {},
   "source": [
    "## try & except & else & finally"
   ]
  },
  {
   "cell_type": "code",
   "execution_count": 3,
   "id": "faf99653",
   "metadata": {},
   "outputs": [
    {
     "name": "stdout",
     "output_type": "stream",
     "text": [
      "Numarayı giriniz: atıl\n",
      "Lütfen gerçekten numara giriniz\n",
      "Finally Çağırıldı\n",
      "Numarayı giriniz: 10\n",
      "Teşekkürler\n",
      "Finally Çağırıldı\n"
     ]
    }
   ],
   "source": [
    "while True:\n",
    "    \n",
    "    try:\n",
    "        benimInt = int(input(\"Numarayı giriniz: \"))\n",
    "    except:\n",
    "        print(\"Lütfen gerçekten numara giriniz\")\n",
    "        continue\n",
    "    else:\n",
    "        print(\"Teşekkürler\")\n",
    "        break\n",
    "    finally:        ## ne olursa olsun çağrılsın\n",
    "        print(\"Finally Çağırıldı\")"
   ]
  },
  {
   "cell_type": "code",
   "execution_count": null,
   "id": "6fef9146",
   "metadata": {},
   "outputs": [],
   "source": []
  }
 ],
 "metadata": {
  "kernelspec": {
   "display_name": "Python 3 (ipykernel)",
   "language": "python",
   "name": "python3"
  },
  "language_info": {
   "codemirror_mode": {
    "name": "ipython",
    "version": 3
   },
   "file_extension": ".py",
   "mimetype": "text/x-python",
   "name": "python",
   "nbconvert_exporter": "python",
   "pygments_lexer": "ipython3",
   "version": "3.9.13"
  }
 },
 "nbformat": 4,
 "nbformat_minor": 5
}
