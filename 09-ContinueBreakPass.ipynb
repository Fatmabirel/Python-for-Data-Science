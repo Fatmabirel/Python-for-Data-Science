{
 "cells": [
  {
   "cell_type": "code",
   "execution_count": 1,
   "id": "829e706e",
   "metadata": {},
   "outputs": [],
   "source": [
    "listem = [1,2,3,4,5]"
   ]
  },
  {
   "cell_type": "code",
   "execution_count": 2,
   "id": "01b55dbe",
   "metadata": {},
   "outputs": [
    {
     "name": "stdout",
     "output_type": "stream",
     "text": [
      "1\n",
      "2\n",
      "3\n",
      "4\n",
      "5\n"
     ]
    }
   ],
   "source": [
    "for numara in listem:\n",
    "    print(numara)"
   ]
  },
  {
   "cell_type": "code",
   "execution_count": 3,
   "id": "ff499283",
   "metadata": {},
   "outputs": [
    {
     "name": "stdout",
     "output_type": "stream",
     "text": [
      "1\n",
      "2\n"
     ]
    }
   ],
   "source": [
    "for numara in listem:\n",
    "    if numara == 3:\n",
    "        break                # döngünün başına geçer\n",
    "    print(numara)"
   ]
  },
  {
   "cell_type": "code",
   "execution_count": 4,
   "id": "c75c2776",
   "metadata": {},
   "outputs": [
    {
     "name": "stdout",
     "output_type": "stream",
     "text": [
      "1\n",
      "2\n",
      "4\n",
      "5\n"
     ]
    }
   ],
   "source": [
    "for numara in listem:\n",
    "    if numara == 3:\n",
    "        continue                # geri kalan işlemler yapılmadan devam eder\n",
    "    print(numara)"
   ]
  },
  {
   "cell_type": "code",
   "execution_count": 6,
   "id": "a29c0ab9",
   "metadata": {},
   "outputs": [],
   "source": [
    "for numara in listem:\n",
    "    pass                # işlem yapmak istemiyorsak kullanılır"
   ]
  },
  {
   "cell_type": "code",
   "execution_count": null,
   "id": "08eb7892",
   "metadata": {},
   "outputs": [],
   "source": []
  }
 ],
 "metadata": {
  "kernelspec": {
   "display_name": "Python 3 (ipykernel)",
   "language": "python",
   "name": "python3"
  },
  "language_info": {
   "codemirror_mode": {
    "name": "ipython",
    "version": 3
   },
   "file_extension": ".py",
   "mimetype": "text/x-python",
   "name": "python",
   "nbconvert_exporter": "python",
   "pygments_lexer": "ipython3",
   "version": "3.9.13"
  }
 },
 "nbformat": 4,
 "nbformat_minor": 5
}
