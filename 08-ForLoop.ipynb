{
 "cells": [
  {
   "cell_type": "code",
   "execution_count": 1,
   "id": "b02c365c",
   "metadata": {},
   "outputs": [],
   "source": [
    "listem = [1,2,3,4,5]"
   ]
  },
  {
   "cell_type": "code",
   "execution_count": 2,
   "id": "7d00d6f1",
   "metadata": {},
   "outputs": [
    {
     "name": "stdout",
     "output_type": "stream",
     "text": [
      "1\n",
      "2\n",
      "3\n",
      "4\n",
      "5\n"
     ]
    }
   ],
   "source": [
    "for numara in listem:\n",
    "    print(numara)"
   ]
  },
  {
   "cell_type": "code",
   "execution_count": 3,
   "id": "349d4a5f",
   "metadata": {},
   "outputs": [],
   "source": [
    "listem2 = [1,2,3,4,5,6]"
   ]
  },
  {
   "cell_type": "code",
   "execution_count": 5,
   "id": "16719c41",
   "metadata": {},
   "outputs": [
    {
     "name": "stdout",
     "output_type": "stream",
     "text": [
      "2\n",
      "4\n",
      "6\n"
     ]
    }
   ],
   "source": [
    "for rakam in listem2:\n",
    "    if rakam % 2 == 0 :\n",
    "        print(rakam)"
   ]
  },
  {
   "cell_type": "code",
   "execution_count": 6,
   "id": "94c0f0e9",
   "metadata": {},
   "outputs": [],
   "source": [
    "yeniString = \"Fatma Birel\""
   ]
  },
  {
   "cell_type": "code",
   "execution_count": 7,
   "id": "99b2cab2",
   "metadata": {},
   "outputs": [
    {
     "name": "stdout",
     "output_type": "stream",
     "text": [
      "F\n",
      "a\n",
      "t\n",
      "m\n",
      "a\n",
      " \n",
      "B\n",
      "i\n",
      "r\n",
      "e\n",
      "l\n"
     ]
    }
   ],
   "source": [
    "for harf in yeniString:\n",
    "    print(harf)"
   ]
  },
  {
   "cell_type": "code",
   "execution_count": 8,
   "id": "b343eca2",
   "metadata": {},
   "outputs": [],
   "source": [
    "benimTuple = (1,2,3,4,5)"
   ]
  },
  {
   "cell_type": "code",
   "execution_count": 9,
   "id": "e1e5da32",
   "metadata": {},
   "outputs": [
    {
     "name": "stdout",
     "output_type": "stream",
     "text": [
      "-1\n",
      "0\n",
      "1\n",
      "2\n",
      "3\n"
     ]
    }
   ],
   "source": [
    "for eleman in benimTuple:\n",
    "    print(eleman -2 )"
   ]
  },
  {
   "cell_type": "code",
   "execution_count": 10,
   "id": "d0c61c72",
   "metadata": {},
   "outputs": [],
   "source": [
    "newlist = [(1,2,3),(4,5,6),(7,8,9)]"
   ]
  },
  {
   "cell_type": "code",
   "execution_count": 13,
   "id": "3d4a6a31",
   "metadata": {},
   "outputs": [
    {
     "name": "stdout",
     "output_type": "stream",
     "text": [
      "3\n",
      "6\n",
      "9\n"
     ]
    }
   ],
   "source": [
    "for (x,y,z) in newlist:\n",
    "    print(z)"
   ]
  },
  {
   "cell_type": "code",
   "execution_count": 14,
   "id": "5f480c61",
   "metadata": {},
   "outputs": [],
   "source": [
    "sozluk = {\"muz\":100, \"çilek\": 240,\"erik\": 50}"
   ]
  },
  {
   "cell_type": "code",
   "execution_count": 15,
   "id": "0efe5a8e",
   "metadata": {},
   "outputs": [
    {
     "name": "stdout",
     "output_type": "stream",
     "text": [
      "100\n",
      "240\n",
      "50\n"
     ]
    }
   ],
   "source": [
    "for (anahtar,deger) in sozluk.items():\n",
    "    print(deger)"
   ]
  },
  {
   "cell_type": "code",
   "execution_count": null,
   "id": "4b029d9f",
   "metadata": {},
   "outputs": [],
   "source": []
  }
 ],
 "metadata": {
  "kernelspec": {
   "display_name": "Python 3 (ipykernel)",
   "language": "python",
   "name": "python3"
  },
  "language_info": {
   "codemirror_mode": {
    "name": "ipython",
    "version": 3
   },
   "file_extension": ".py",
   "mimetype": "text/x-python",
   "name": "python",
   "nbconvert_exporter": "python",
   "pygments_lexer": "ipython3",
   "version": "3.9.13"
  }
 },
 "nbformat": 4,
 "nbformat_minor": 5
}
