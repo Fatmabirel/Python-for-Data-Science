{
 "cells": [
  {
   "cell_type": "code",
   "execution_count": 1,
   "id": "6cc7a0a3",
   "metadata": {},
   "outputs": [
    {
     "data": {
      "text/plain": [
       "15"
      ]
     },
     "execution_count": 1,
     "metadata": {},
     "output_type": "execute_result"
    }
   ],
   "source": [
    "5*3"
   ]
  },
  {
   "cell_type": "code",
   "execution_count": 3,
   "id": "3bf62a18",
   "metadata": {},
   "outputs": [],
   "source": [
    "x = 5"
   ]
  },
  {
   "cell_type": "code",
   "execution_count": 4,
   "id": "aaa6d90e",
   "metadata": {},
   "outputs": [],
   "source": [
    "y = 4"
   ]
  },
  {
   "cell_type": "code",
   "execution_count": 5,
   "id": "59da31ac",
   "metadata": {
    "scrolled": true
   },
   "outputs": [
    {
     "data": {
      "text/plain": [
       "20"
      ]
     },
     "execution_count": 5,
     "metadata": {},
     "output_type": "execute_result"
    }
   ],
   "source": [
    "x * y"
   ]
  },
  {
   "cell_type": "markdown",
   "id": "5030b890",
   "metadata": {},
   "source": [
    "## Integer & Float"
   ]
  },
  {
   "cell_type": "code",
   "execution_count": 6,
   "id": "f8d0aadb",
   "metadata": {},
   "outputs": [],
   "source": [
    "benimDegiskenim = 10\n",
    "benimDigerDegiskenim = 20"
   ]
  },
  {
   "cell_type": "code",
   "execution_count": 7,
   "id": "eb9d074c",
   "metadata": {},
   "outputs": [
    {
     "data": {
      "text/plain": [
       "30"
      ]
     },
     "execution_count": 7,
     "metadata": {},
     "output_type": "execute_result"
    }
   ],
   "source": [
    "benimDegiskenim + benimDigerDegiskenim"
   ]
  },
  {
   "cell_type": "code",
   "execution_count": 8,
   "id": "8816aa9f",
   "metadata": {},
   "outputs": [
    {
     "data": {
      "text/plain": [
       "int"
      ]
     },
     "execution_count": 8,
     "metadata": {},
     "output_type": "execute_result"
    }
   ],
   "source": [
    "type(benimDegiskenim)"
   ]
  },
  {
   "cell_type": "code",
   "execution_count": 10,
   "id": "8b598ea9",
   "metadata": {},
   "outputs": [],
   "source": [
    "sonuc = benimDigerDegiskenim / benimDegiskenim"
   ]
  },
  {
   "cell_type": "code",
   "execution_count": 11,
   "id": "692ac98e",
   "metadata": {},
   "outputs": [
    {
     "data": {
      "text/plain": [
       "2.0"
      ]
     },
     "execution_count": 11,
     "metadata": {},
     "output_type": "execute_result"
    }
   ],
   "source": [
    "sonuc"
   ]
  },
  {
   "cell_type": "code",
   "execution_count": 12,
   "id": "5fc2bf5c",
   "metadata": {},
   "outputs": [
    {
     "data": {
      "text/plain": [
       "float"
      ]
     },
     "execution_count": 12,
     "metadata": {},
     "output_type": "execute_result"
    }
   ],
   "source": [
    "type(sonuc)"
   ]
  },
  {
   "cell_type": "code",
   "execution_count": 14,
   "id": "01b834a2",
   "metadata": {},
   "outputs": [],
   "source": [
    "a = 5\n",
    "pi = 3.14"
   ]
  },
  {
   "cell_type": "code",
   "execution_count": 15,
   "id": "71071caa",
   "metadata": {},
   "outputs": [
    {
     "data": {
      "text/plain": [
       "15.700000000000001"
      ]
     },
     "execution_count": 15,
     "metadata": {},
     "output_type": "execute_result"
    }
   ],
   "source": [
    "a * pi"
   ]
  },
  {
   "cell_type": "markdown",
   "id": "dfcbedac",
   "metadata": {},
   "source": [
    "## Matematiksel İşlemler"
   ]
  },
  {
   "cell_type": "code",
   "execution_count": 16,
   "id": "a0ffc6e7",
   "metadata": {},
   "outputs": [],
   "source": [
    "x = 5\n",
    "y = 3"
   ]
  },
  {
   "cell_type": "code",
   "execution_count": 17,
   "id": "e1a998d5",
   "metadata": {},
   "outputs": [
    {
     "data": {
      "text/plain": [
       "150"
      ]
     },
     "execution_count": 17,
     "metadata": {},
     "output_type": "execute_result"
    }
   ],
   "source": [
    "x * y * 10"
   ]
  },
  {
   "cell_type": "code",
   "execution_count": 19,
   "id": "8f4f70e3",
   "metadata": {},
   "outputs": [
    {
     "data": {
      "text/plain": [
       "625"
      ]
     },
     "execution_count": 19,
     "metadata": {},
     "output_type": "execute_result"
    }
   ],
   "source": [
    "x ** 4"
   ]
  },
  {
   "cell_type": "code",
   "execution_count": 20,
   "id": "a7bb3fb4",
   "metadata": {},
   "outputs": [
    {
     "data": {
      "text/plain": [
       "0"
      ]
     },
     "execution_count": 20,
     "metadata": {},
     "output_type": "execute_result"
    }
   ],
   "source": [
    "# Remainder = Kalanını Bulmak\n",
    "10 % 2"
   ]
  },
  {
   "cell_type": "code",
   "execution_count": 28,
   "id": "cf39fd54",
   "metadata": {},
   "outputs": [
    {
     "data": {
      "text/plain": [
       "2"
      ]
     },
     "execution_count": 28,
     "metadata": {},
     "output_type": "execute_result"
    }
   ],
   "source": [
    "11 % 3"
   ]
  },
  {
   "cell_type": "code",
   "execution_count": 29,
   "id": "1db9cf48",
   "metadata": {},
   "outputs": [],
   "source": [
    "## camelCase \n",
    "## snake_case"
   ]
  },
  {
   "cell_type": "code",
   "execution_count": 30,
   "id": "57ff3c65",
   "metadata": {},
   "outputs": [],
   "source": [
    "kullanicininYasi = 10"
   ]
  },
  {
   "cell_type": "code",
   "execution_count": 35,
   "id": "f5f81df5",
   "metadata": {},
   "outputs": [
    {
     "name": "stdout",
     "output_type": "stream",
     "text": [
      "Yaşınızı Giriniz: 20\n"
     ]
    }
   ],
   "source": [
    "kullanicininYasi = input(\"Yaşınızı Giriniz: \")"
   ]
  },
  {
   "cell_type": "code",
   "execution_count": 34,
   "id": "755f4c3e",
   "metadata": {},
   "outputs": [
    {
     "data": {
      "text/plain": [
       "'20'"
      ]
     },
     "execution_count": 34,
     "metadata": {},
     "output_type": "execute_result"
    }
   ],
   "source": [
    "kullanicininYasi"
   ]
  },
  {
   "cell_type": "code",
   "execution_count": 36,
   "id": "6b6c2388",
   "metadata": {},
   "outputs": [
    {
     "data": {
      "text/plain": [
       "str"
      ]
     },
     "execution_count": 36,
     "metadata": {},
     "output_type": "execute_result"
    }
   ],
   "source": [
    "type(kullanicininYasi)"
   ]
  },
  {
   "cell_type": "markdown",
   "id": "fde4a831",
   "metadata": {},
   "source": [
    "## String"
   ]
  },
  {
   "cell_type": "code",
   "execution_count": 37,
   "id": "c0ea8033",
   "metadata": {},
   "outputs": [
    {
     "data": {
      "text/plain": [
       "'merhaba dünya'"
      ]
     },
     "execution_count": 37,
     "metadata": {},
     "output_type": "execute_result"
    }
   ],
   "source": [
    "\"merhaba dünya\""
   ]
  },
  {
   "cell_type": "code",
   "execution_count": 38,
   "id": "50ed3a36",
   "metadata": {},
   "outputs": [],
   "source": [
    "x = \"merhaba dünya\""
   ]
  },
  {
   "cell_type": "code",
   "execution_count": 40,
   "id": "6e1beeac",
   "metadata": {},
   "outputs": [
    {
     "data": {
      "text/plain": [
       "'Merhaba dünya'"
      ]
     },
     "execution_count": 40,
     "metadata": {},
     "output_type": "execute_result"
    }
   ],
   "source": [
    "x.capitalize()"
   ]
  },
  {
   "cell_type": "code",
   "execution_count": 42,
   "id": "0d381896",
   "metadata": {},
   "outputs": [
    {
     "data": {
      "text/plain": [
       "['merhaba', 'dünya']"
      ]
     },
     "execution_count": 42,
     "metadata": {},
     "output_type": "execute_result"
    }
   ],
   "source": [
    "x.split()"
   ]
  },
  {
   "cell_type": "code",
   "execution_count": 43,
   "id": "659b4d4d",
   "metadata": {},
   "outputs": [
    {
     "data": {
      "text/plain": [
       "13"
      ]
     },
     "execution_count": 43,
     "metadata": {},
     "output_type": "execute_result"
    }
   ],
   "source": [
    "len(x)"
   ]
  },
  {
   "cell_type": "code",
   "execution_count": 44,
   "id": "2023c179",
   "metadata": {},
   "outputs": [
    {
     "name": "stdout",
     "output_type": "stream",
     "text": [
      "merhaba \n",
      "dünya\n"
     ]
    }
   ],
   "source": [
    "print(\"merhaba \\ndünya\")"
   ]
  },
  {
   "cell_type": "markdown",
   "id": "36e35228",
   "metadata": {},
   "source": [
    "## Index"
   ]
  },
  {
   "cell_type": "code",
   "execution_count": 45,
   "id": "7193e7a5",
   "metadata": {},
   "outputs": [],
   "source": [
    "isimString = \"Fatma Birel\""
   ]
  },
  {
   "cell_type": "code",
   "execution_count": 46,
   "id": "d15b55ff",
   "metadata": {},
   "outputs": [
    {
     "data": {
      "text/plain": [
       "'F'"
      ]
     },
     "execution_count": 46,
     "metadata": {},
     "output_type": "execute_result"
    }
   ],
   "source": [
    "isimString[0]"
   ]
  },
  {
   "cell_type": "code",
   "execution_count": 47,
   "id": "ce6ea17d",
   "metadata": {},
   "outputs": [
    {
     "data": {
      "text/plain": [
       "'l'"
      ]
     },
     "execution_count": 47,
     "metadata": {},
     "output_type": "execute_result"
    }
   ],
   "source": [
    "isimString[-1]"
   ]
  },
  {
   "cell_type": "code",
   "execution_count": 48,
   "id": "6dc4cd71",
   "metadata": {},
   "outputs": [],
   "source": [
    "yeniString = \"012345678\""
   ]
  },
  {
   "cell_type": "code",
   "execution_count": 49,
   "id": "d0d380de",
   "metadata": {},
   "outputs": [
    {
     "data": {
      "text/plain": [
       "'2345678'"
      ]
     },
     "execution_count": 49,
     "metadata": {},
     "output_type": "execute_result"
    }
   ],
   "source": [
    "yeniString[2:]"
   ]
  },
  {
   "cell_type": "code",
   "execution_count": 50,
   "id": "8a017bae",
   "metadata": {},
   "outputs": [],
   "source": [
    "harfString = \"abcdefgh\""
   ]
  },
  {
   "cell_type": "code",
   "execution_count": 51,
   "id": "32686ac4",
   "metadata": {},
   "outputs": [
    {
     "data": {
      "text/plain": [
       "'abc'"
      ]
     },
     "execution_count": 51,
     "metadata": {},
     "output_type": "execute_result"
    }
   ],
   "source": [
    "harfString[:3]"
   ]
  },
  {
   "cell_type": "markdown",
   "id": "4ef1fd9a",
   "metadata": {},
   "source": [
    "## Slicing (Kesme)"
   ]
  },
  {
   "cell_type": "code",
   "execution_count": 52,
   "id": "9a027074",
   "metadata": {},
   "outputs": [],
   "source": [
    "gelenVeri = \"AhmetinYasi65\""
   ]
  },
  {
   "cell_type": "code",
   "execution_count": 53,
   "id": "3b43ac3f",
   "metadata": {},
   "outputs": [
    {
     "data": {
      "text/plain": [
       "'65'"
      ]
     },
     "execution_count": 53,
     "metadata": {},
     "output_type": "execute_result"
    }
   ],
   "source": [
    "gelenVeri[-2:]"
   ]
  },
  {
   "cell_type": "code",
   "execution_count": 54,
   "id": "ac01b787",
   "metadata": {},
   "outputs": [
    {
     "data": {
      "text/plain": [
       "'me'"
      ]
     },
     "execution_count": 54,
     "metadata": {},
     "output_type": "execute_result"
    }
   ],
   "source": [
    "gelenVeri[2:4]"
   ]
  },
  {
   "cell_type": "code",
   "execution_count": 55,
   "id": "3079772c",
   "metadata": {},
   "outputs": [],
   "source": [
    "#Step Size"
   ]
  },
  {
   "cell_type": "code",
   "execution_count": 57,
   "id": "d7e908a8",
   "metadata": {},
   "outputs": [
    {
     "data": {
      "text/plain": [
       "'heiY'"
      ]
     },
     "execution_count": 57,
     "metadata": {},
     "output_type": "execute_result"
    }
   ],
   "source": [
    "gelenVeri[1:8:2]"
   ]
  },
  {
   "cell_type": "code",
   "execution_count": 58,
   "id": "404cc275",
   "metadata": {},
   "outputs": [
    {
     "data": {
      "text/plain": [
       "'56isaYnitemhA'"
      ]
     },
     "execution_count": 58,
     "metadata": {},
     "output_type": "execute_result"
    }
   ],
   "source": [
    "gelenVeri[::-1]"
   ]
  },
  {
   "cell_type": "code",
   "execution_count": 59,
   "id": "c787d8a7",
   "metadata": {},
   "outputs": [],
   "source": [
    "benimIsmim = \"fatma\""
   ]
  },
  {
   "cell_type": "code",
   "execution_count": 60,
   "id": "0bf91d9f",
   "metadata": {},
   "outputs": [
    {
     "data": {
      "text/plain": [
       "'Fatma'"
      ]
     },
     "execution_count": 60,
     "metadata": {},
     "output_type": "execute_result"
    }
   ],
   "source": [
    "benimIsmim.capitalize()"
   ]
  },
  {
   "cell_type": "code",
   "execution_count": 61,
   "id": "6ab7ce62",
   "metadata": {},
   "outputs": [
    {
     "data": {
      "text/plain": [
       "'fatma'"
      ]
     },
     "execution_count": 61,
     "metadata": {},
     "output_type": "execute_result"
    }
   ],
   "source": [
    "benimIsmim"
   ]
  },
  {
   "cell_type": "code",
   "execution_count": 62,
   "id": "598abfb7",
   "metadata": {},
   "outputs": [],
   "source": [
    "benimYeniIsmim = benimIsmim.capitalize()"
   ]
  },
  {
   "cell_type": "code",
   "execution_count": 63,
   "id": "bc97cdb1",
   "metadata": {},
   "outputs": [
    {
     "data": {
      "text/plain": [
       "'Fatma'"
      ]
     },
     "execution_count": 63,
     "metadata": {},
     "output_type": "execute_result"
    }
   ],
   "source": [
    "benimYeniIsmim"
   ]
  },
  {
   "cell_type": "code",
   "execution_count": 64,
   "id": "656d7669",
   "metadata": {},
   "outputs": [],
   "source": [
    "benimTamIsmim = \"Fatma Birel\""
   ]
  },
  {
   "cell_type": "code",
   "execution_count": 65,
   "id": "68a99406",
   "metadata": {},
   "outputs": [
    {
     "data": {
      "text/plain": [
       "['Fatma', 'Birel']"
      ]
     },
     "execution_count": 65,
     "metadata": {},
     "output_type": "execute_result"
    }
   ],
   "source": [
    "benimTamIsmim.split()"
   ]
  },
  {
   "cell_type": "code",
   "execution_count": 66,
   "id": "67633321",
   "metadata": {},
   "outputs": [
    {
     "data": {
      "text/plain": [
       "'FATMA BIREL'"
      ]
     },
     "execution_count": 66,
     "metadata": {},
     "output_type": "execute_result"
    }
   ],
   "source": [
    "benimTamIsmim.upper()"
   ]
  },
  {
   "cell_type": "code",
   "execution_count": 67,
   "id": "c31653de",
   "metadata": {},
   "outputs": [
    {
     "data": {
      "text/plain": [
       "'fatmadır'"
      ]
     },
     "execution_count": 67,
     "metadata": {},
     "output_type": "execute_result"
    }
   ],
   "source": [
    "benimIsmim + \"dır\""
   ]
  },
  {
   "cell_type": "code",
   "execution_count": null,
   "id": "eb9d4ed1",
   "metadata": {},
   "outputs": [],
   "source": []
  }
 ],
 "metadata": {
  "kernelspec": {
   "display_name": "Python 3 (ipykernel)",
   "language": "python",
   "name": "python3"
  },
  "language_info": {
   "codemirror_mode": {
    "name": "ipython",
    "version": 3
   },
   "file_extension": ".py",
   "mimetype": "text/x-python",
   "name": "python",
   "nbconvert_exporter": "python",
   "pygments_lexer": "ipython3",
   "version": "3.9.13"
  }
 },
 "nbformat": 4,
 "nbformat_minor": 5
}
