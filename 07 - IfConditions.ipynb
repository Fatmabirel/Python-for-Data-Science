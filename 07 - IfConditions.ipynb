{
 "cells": [
  {
   "cell_type": "code",
   "execution_count": 1,
   "id": "4a6dd447",
   "metadata": {},
   "outputs": [
    {
     "name": "stdout",
     "output_type": "stream",
     "text": [
      "fatma birel\n"
     ]
    }
   ],
   "source": [
    "if 3 > 1:\n",
    "    print(\"fatma birel\")"
   ]
  },
  {
   "cell_type": "code",
   "execution_count": 3,
   "id": "70e18394",
   "metadata": {},
   "outputs": [],
   "source": [
    "if 3 > 4:\n",
    "    print(\"fatma birel\")"
   ]
  },
  {
   "cell_type": "code",
   "execution_count": 4,
   "id": "d11a6cb4",
   "metadata": {},
   "outputs": [],
   "source": [
    "x = 4\n",
    "y= 4"
   ]
  },
  {
   "cell_type": "code",
   "execution_count": 6,
   "id": "e2b81980",
   "metadata": {},
   "outputs": [],
   "source": [
    "if x > y:\n",
    "    print(\"x, y'den büyüktür\")"
   ]
  },
  {
   "cell_type": "code",
   "execution_count": 7,
   "id": "0dadf27c",
   "metadata": {},
   "outputs": [
    {
     "name": "stdout",
     "output_type": "stream",
     "text": [
      "x, y'den büyüktür\n"
     ]
    }
   ],
   "source": [
    "if x == y:\n",
    "    print(\"x, y'den büyüktür\")"
   ]
  },
  {
   "cell_type": "code",
   "execution_count": 8,
   "id": "644d9a5b",
   "metadata": {},
   "outputs": [
    {
     "name": "stdout",
     "output_type": "stream",
     "text": [
      "x ile y birbirine eşittir\n"
     ]
    }
   ],
   "source": [
    "if x > y:\n",
    "    print(\"x, y'den büyüktür\")\n",
    "elif y > x:\n",
    "    print(\"y, x'den büyüktür\")\n",
    "else:\n",
    "    print(\"x ile y birbirine eşittir\")"
   ]
  },
  {
   "cell_type": "code",
   "execution_count": 9,
   "id": "f5e9291e",
   "metadata": {},
   "outputs": [
    {
     "name": "stdout",
     "output_type": "stream",
     "text": [
      "Süper kahraman seçiniz: Batman\n"
     ]
    }
   ],
   "source": [
    "kahraman = input(\"Süper kahraman seçiniz: \")"
   ]
  },
  {
   "cell_type": "code",
   "execution_count": 10,
   "id": "55aea029",
   "metadata": {},
   "outputs": [
    {
     "name": "stdout",
     "output_type": "stream",
     "text": [
      "Batman'i seçtiniz tebrikler\n"
     ]
    }
   ],
   "source": [
    "if kahraman == \"Batman\":\n",
    "    print(\"Batman'i seçtiniz tebrikler\")\n",
    "elif kahraman == \"Superman\":\n",
    "    print(\"Keşke Batman'i seçseydin\")\n",
    "elif kahraman == \"Ironman\":\n",
    "    print(\"Ironman de kimmiş\")\n",
    "else:\n",
    "    print(\"Siz insanları anlamak gerçekten zor\")"
   ]
  },
  {
   "cell_type": "code",
   "execution_count": 11,
   "id": "016f423e",
   "metadata": {},
   "outputs": [],
   "source": [
    "karakterCanli = True"
   ]
  },
  {
   "cell_type": "code",
   "execution_count": 12,
   "id": "d7a99db4",
   "metadata": {},
   "outputs": [
    {
     "name": "stdout",
     "output_type": "stream",
     "text": [
      "Oyun karakteriniz yaşıyor\n"
     ]
    }
   ],
   "source": [
    "if karakterCanli:\n",
    "    print(\"Oyun karakteriniz yaşıyor\")\n",
    "else:\n",
    "    print(\"Oyun karakteriniz yaşamıyor\")"
   ]
  },
  {
   "cell_type": "code",
   "execution_count": 13,
   "id": "ecab26b2",
   "metadata": {},
   "outputs": [],
   "source": [
    "string = \"Fatma Birel\""
   ]
  },
  {
   "cell_type": "code",
   "execution_count": 15,
   "id": "899978a7",
   "metadata": {},
   "outputs": [
    {
     "name": "stdout",
     "output_type": "stream",
     "text": [
      "farklı\n"
     ]
    }
   ],
   "source": [
    "if string == \"fatma birel\":\n",
    "    print(\"eşit\")\n",
    "else:\n",
    "    print(\"farklı\")"
   ]
  },
  {
   "cell_type": "code",
   "execution_count": 17,
   "id": "d248b8e4",
   "metadata": {},
   "outputs": [
    {
     "name": "stdout",
     "output_type": "stream",
     "text": [
      "var\n"
     ]
    }
   ],
   "source": [
    "if \"Birel\" in string:\n",
    "    print(\"var\")\n",
    "else:\n",
    "    print(\"yok\")"
   ]
  },
  {
   "cell_type": "code",
   "execution_count": null,
   "id": "835a6995",
   "metadata": {},
   "outputs": [],
   "source": []
  }
 ],
 "metadata": {
  "kernelspec": {
   "display_name": "Python 3 (ipykernel)",
   "language": "python",
   "name": "python3"
  },
  "language_info": {
   "codemirror_mode": {
    "name": "ipython",
    "version": 3
   },
   "file_extension": ".py",
   "mimetype": "text/x-python",
   "name": "python",
   "nbconvert_exporter": "python",
   "pygments_lexer": "ipython3",
   "version": "3.9.13"
  }
 },
 "nbformat": 4,
 "nbformat_minor": 5
}
