{
 "cells": [
  {
   "cell_type": "code",
   "execution_count": 1,
   "id": "331bda84",
   "metadata": {},
   "outputs": [],
   "source": [
    "adım = \"Fatma Birel\""
   ]
  },
  {
   "cell_type": "code",
   "execution_count": 2,
   "id": "3d9e5e17",
   "metadata": {},
   "outputs": [
    {
     "data": {
      "text/plain": [
       "'FATMA BIREL'"
      ]
     },
     "execution_count": 2,
     "metadata": {},
     "output_type": "execute_result"
    }
   ],
   "source": [
    "adım.upper()"
   ]
  },
  {
   "cell_type": "code",
   "execution_count": 3,
   "id": "339dd010",
   "metadata": {},
   "outputs": [],
   "source": [
    "def ilkfonksiyon():\n",
    "    print(\"ilk fonksiyonum\")"
   ]
  },
  {
   "cell_type": "code",
   "execution_count": 4,
   "id": "5c5f581b",
   "metadata": {},
   "outputs": [
    {
     "name": "stdout",
     "output_type": "stream",
     "text": [
      "ilk fonksiyonum\n"
     ]
    }
   ],
   "source": [
    "ilkfonksiyon()"
   ]
  },
  {
   "cell_type": "markdown",
   "id": "05c5c3d7",
   "metadata": {},
   "source": [
    "## input & return"
   ]
  },
  {
   "cell_type": "code",
   "execution_count": 6,
   "id": "c4a4c294",
   "metadata": {},
   "outputs": [],
   "source": [
    "def merhabaDunya(isim):\n",
    "    print(\"merhaba\")\n",
    "    print(isim)"
   ]
  },
  {
   "cell_type": "code",
   "execution_count": 8,
   "id": "4618fac0",
   "metadata": {},
   "outputs": [
    {
     "name": "stdout",
     "output_type": "stream",
     "text": [
      "merhaba\n",
      "Fatma\n"
     ]
    }
   ],
   "source": [
    "merhabaDunya(\"Fatma\")"
   ]
  },
  {
   "cell_type": "code",
   "execution_count": 9,
   "id": "6889dc6c",
   "metadata": {},
   "outputs": [],
   "source": [
    "def merhabaDunya(isim = \"Fatma\"):\n",
    "    print(\"merhaba\")\n",
    "    print(isim)"
   ]
  },
  {
   "cell_type": "code",
   "execution_count": 10,
   "id": "9ad39121",
   "metadata": {},
   "outputs": [
    {
     "name": "stdout",
     "output_type": "stream",
     "text": [
      "merhaba\n",
      "Fatma\n"
     ]
    }
   ],
   "source": [
    "merhabaDunya()"
   ]
  },
  {
   "cell_type": "code",
   "execution_count": 11,
   "id": "264653be",
   "metadata": {},
   "outputs": [
    {
     "name": "stdout",
     "output_type": "stream",
     "text": [
      "merhaba\n",
      "Birel\n"
     ]
    }
   ],
   "source": [
    "merhabaDunya(\"Birel\")"
   ]
  },
  {
   "cell_type": "code",
   "execution_count": 12,
   "id": "d4f19d77",
   "metadata": {},
   "outputs": [],
   "source": [
    "def toplama(numara1,numara2):\n",
    "    sonuc = numara1 + numara2\n",
    "    print(sonuc)"
   ]
  },
  {
   "cell_type": "code",
   "execution_count": 15,
   "id": "2b22b980",
   "metadata": {},
   "outputs": [
    {
     "name": "stdout",
     "output_type": "stream",
     "text": [
      "2189\n"
     ]
    }
   ],
   "source": [
    "toplama(100,2089)"
   ]
  },
  {
   "cell_type": "code",
   "execution_count": 16,
   "id": "bdbdb865",
   "metadata": {},
   "outputs": [],
   "source": [
    "def superToplama(num1, num2, num3):\n",
    "    print(num1+num2+num3)"
   ]
  },
  {
   "cell_type": "code",
   "execution_count": 17,
   "id": "7cb172a7",
   "metadata": {},
   "outputs": [
    {
     "name": "stdout",
     "output_type": "stream",
     "text": [
      "9\n"
     ]
    }
   ],
   "source": [
    "superToplama(1,2,6)"
   ]
  },
  {
   "cell_type": "code",
   "execution_count": 18,
   "id": "1aba6191",
   "metadata": {},
   "outputs": [],
   "source": [
    "def dondurmeliToplama(num1,num2):\n",
    "    return num1+num2"
   ]
  },
  {
   "cell_type": "code",
   "execution_count": 19,
   "id": "e3c5fad6",
   "metadata": {},
   "outputs": [],
   "source": [
    "sonuc = dondurmeliToplama(1,6)"
   ]
  },
  {
   "cell_type": "code",
   "execution_count": 20,
   "id": "0d49d5d4",
   "metadata": {},
   "outputs": [
    {
     "data": {
      "text/plain": [
       "7"
      ]
     },
     "execution_count": 20,
     "metadata": {},
     "output_type": "execute_result"
    }
   ],
   "source": [
    "sonuc"
   ]
  },
  {
   "cell_type": "markdown",
   "id": "c926e8fd",
   "metadata": {},
   "source": [
    "## args & kwargs"
   ]
  },
  {
   "cell_type": "code",
   "execution_count": 21,
   "id": "333c6be3",
   "metadata": {},
   "outputs": [],
   "source": [
    "def yeniToplama(*args):       # *args sonsuz sayıda eleman tanımlanmasını sağlar!\n",
    "    return sum(args)          # tuple döndürür"
   ]
  },
  {
   "cell_type": "code",
   "execution_count": 22,
   "id": "1b770a12",
   "metadata": {},
   "outputs": [
    {
     "data": {
      "text/plain": [
       "65"
      ]
     },
     "execution_count": 22,
     "metadata": {},
     "output_type": "execute_result"
    }
   ],
   "source": [
    "yeniToplama(10,20,35)"
   ]
  },
  {
   "cell_type": "code",
   "execution_count": 23,
   "id": "f9c46938",
   "metadata": {},
   "outputs": [
    {
     "data": {
      "text/plain": [
       "599"
      ]
     },
     "execution_count": 23,
     "metadata": {},
     "output_type": "execute_result"
    }
   ],
   "source": [
    "yeniToplama(1,6,79,481,32)"
   ]
  },
  {
   "cell_type": "code",
   "execution_count": 24,
   "id": "76ee74b4",
   "metadata": {},
   "outputs": [],
   "source": [
    "def fonksiyon(*args):        \n",
    "    return args"
   ]
  },
  {
   "cell_type": "code",
   "execution_count": 31,
   "id": "4767dde5",
   "metadata": {},
   "outputs": [],
   "source": [
    "def stringFonksiyon(**kwargs):       # *args sonsuz sayıda eleman tanımlanmasını sağlar!\n",
    "    return kwargs                    # dict döndürür"
   ]
  },
  {
   "cell_type": "code",
   "execution_count": 27,
   "id": "06bda9ba",
   "metadata": {},
   "outputs": [
    {
     "name": "stdout",
     "output_type": "stream",
     "text": [
      "{'muz': 100, 'kiraz': 70}\n"
     ]
    }
   ],
   "source": [
    "stringFonksiyon(muz = 100, kiraz = 70)"
   ]
  },
  {
   "cell_type": "code",
   "execution_count": 32,
   "id": "c481a30d",
   "metadata": {},
   "outputs": [
    {
     "data": {
      "text/plain": [
       "dict"
      ]
     },
     "execution_count": 32,
     "metadata": {},
     "output_type": "execute_result"
    }
   ],
   "source": [
    "type(stringFonksiyon(muz = 100, kiraz = 70))"
   ]
  },
  {
   "cell_type": "code",
   "execution_count": 33,
   "id": "931cb9a3",
   "metadata": {},
   "outputs": [],
   "source": [
    "def keywordControl(**kwargs):\n",
    "    if 'fatma' in kwargs:\n",
    "        print(\"fatma var\")\n",
    "    else:\n",
    "        print(\"fatma yok\")"
   ]
  },
  {
   "cell_type": "code",
   "execution_count": 36,
   "id": "76e22fe1",
   "metadata": {},
   "outputs": [
    {
     "name": "stdout",
     "output_type": "stream",
     "text": [
      "fatma var\n"
     ]
    }
   ],
   "source": [
    "keywordControl(fatma = 52, sinem = 32)"
   ]
  },
  {
   "cell_type": "code",
   "execution_count": null,
   "id": "41500f1f",
   "metadata": {},
   "outputs": [],
   "source": []
  }
 ],
 "metadata": {
  "kernelspec": {
   "display_name": "Python 3 (ipykernel)",
   "language": "python",
   "name": "python3"
  },
  "language_info": {
   "codemirror_mode": {
    "name": "ipython",
    "version": 3
   },
   "file_extension": ".py",
   "mimetype": "text/x-python",
   "name": "python",
   "nbconvert_exporter": "python",
   "pygments_lexer": "ipython3",
   "version": "3.9.13"
  }
 },
 "nbformat": 4,
 "nbformat_minor": 5
}
