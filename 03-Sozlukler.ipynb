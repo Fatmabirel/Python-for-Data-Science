{
 "cells": [
  {
   "cell_type": "markdown",
   "id": "61db5e9c",
   "metadata": {},
   "source": [
    "## key-value pairing (anahtar kelime - değer eşleşmesi)"
   ]
  },
  {
   "cell_type": "code",
   "execution_count": 1,
   "id": "f5941a54",
   "metadata": {},
   "outputs": [],
   "source": [
    "benimYemeklerim = [\"elma\",\"karpuz\",\"muz\"]"
   ]
  },
  {
   "cell_type": "code",
   "execution_count": 2,
   "id": "ab657b54",
   "metadata": {},
   "outputs": [],
   "source": [
    "benimKalorilerim = [100,200,300]"
   ]
  },
  {
   "cell_type": "code",
   "execution_count": 3,
   "id": "f1c521a1",
   "metadata": {},
   "outputs": [
    {
     "data": {
      "text/plain": [
       "200"
      ]
     },
     "execution_count": 3,
     "metadata": {},
     "output_type": "execute_result"
    }
   ],
   "source": [
    "benimKalorilerim[1]"
   ]
  },
  {
   "cell_type": "code",
   "execution_count": 4,
   "id": "705652fc",
   "metadata": {},
   "outputs": [],
   "source": [
    "#dictionary"
   ]
  },
  {
   "cell_type": "code",
   "execution_count": 6,
   "id": "e1b23d08",
   "metadata": {},
   "outputs": [],
   "source": [
    "benimSozluk ={\"anahtarkelime\" : \"deger\"}"
   ]
  },
  {
   "cell_type": "code",
   "execution_count": 8,
   "id": "fe99dd37",
   "metadata": {},
   "outputs": [
    {
     "data": {
      "text/plain": [
       "'deger'"
      ]
     },
     "execution_count": 8,
     "metadata": {},
     "output_type": "execute_result"
    }
   ],
   "source": [
    "benimSozluk [\"anahtarkelime\"]"
   ]
  },
  {
   "cell_type": "code",
   "execution_count": 9,
   "id": "399d6f4f",
   "metadata": {},
   "outputs": [],
   "source": [
    "benimYemekKaloriSozlugum = {\"elma\" : 100 , \"karpuz\" : 200}"
   ]
  },
  {
   "cell_type": "code",
   "execution_count": 11,
   "id": "926e5aee",
   "metadata": {},
   "outputs": [
    {
     "data": {
      "text/plain": [
       "200"
      ]
     },
     "execution_count": 11,
     "metadata": {},
     "output_type": "execute_result"
    }
   ],
   "source": [
    "benimYemekKaloriSozlugum[\"karpuz\"]"
   ]
  },
  {
   "cell_type": "code",
   "execution_count": 12,
   "id": "6e8028c4",
   "metadata": {},
   "outputs": [],
   "source": [
    "yeniDictionary = {\"anahtar1\" : 100 , \"anahtar2\" : [10,20,30,40,4.5,\"fatma\"], \"anahtar3\" : {\"fatma\"}}"
   ]
  },
  {
   "cell_type": "code",
   "execution_count": 13,
   "id": "3ac06099",
   "metadata": {},
   "outputs": [
    {
     "data": {
      "text/plain": [
       "dict_keys(['anahtar1', 'anahtar2', 'anahtar3'])"
      ]
     },
     "execution_count": 13,
     "metadata": {},
     "output_type": "execute_result"
    }
   ],
   "source": [
    "yeniDictionary.keys()"
   ]
  },
  {
   "cell_type": "code",
   "execution_count": 14,
   "id": "77bba5cb",
   "metadata": {},
   "outputs": [
    {
     "data": {
      "text/plain": [
       "dict_values([100, [10, 20, 30, 40, 4.5, 'fatma'], {'fatma'}])"
      ]
     },
     "execution_count": 14,
     "metadata": {},
     "output_type": "execute_result"
    }
   ],
   "source": [
    "yeniDictionary.values()"
   ]
  },
  {
   "cell_type": "code",
   "execution_count": 15,
   "id": "9a752853",
   "metadata": {},
   "outputs": [
    {
     "data": {
      "text/plain": [
       "'fatma'"
      ]
     },
     "execution_count": 15,
     "metadata": {},
     "output_type": "execute_result"
    }
   ],
   "source": [
    "yeniDictionary['anahtar2'][-1]"
   ]
  },
  {
   "cell_type": "code",
   "execution_count": null,
   "id": "210a2a64",
   "metadata": {},
   "outputs": [],
   "source": []
  }
 ],
 "metadata": {
  "kernelspec": {
   "display_name": "Python 3 (ipykernel)",
   "language": "python",
   "name": "python3"
  },
  "language_info": {
   "codemirror_mode": {
    "name": "ipython",
    "version": 3
   },
   "file_extension": ".py",
   "mimetype": "text/x-python",
   "name": "python",
   "nbconvert_exporter": "python",
   "pygments_lexer": "ipython3",
   "version": "3.9.13"
  }
 },
 "nbformat": 4,
 "nbformat_minor": 5
}
