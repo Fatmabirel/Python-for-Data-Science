{
 "cells": [
  {
   "cell_type": "code",
   "execution_count": 6,
   "id": "2db8ffdf",
   "metadata": {},
   "outputs": [
    {
     "name": "stdout",
     "output_type": "stream",
     "text": [
      "2\n",
      "3\n",
      "4\n",
      "5\n",
      "6\n",
      "7\n",
      "8\n",
      "9\n"
     ]
    }
   ],
   "source": [
    "x = 2\n",
    "while x < 10:\n",
    "    print(x)\n",
    "    x = x+1"
   ]
  },
  {
   "cell_type": "code",
   "execution_count": 7,
   "id": "9352ec6f",
   "metadata": {},
   "outputs": [],
   "source": [
    "listem = [1,2,3,4,5]"
   ]
  },
  {
   "cell_type": "code",
   "execution_count": 9,
   "id": "4eedff63",
   "metadata": {},
   "outputs": [
    {
     "name": "stdout",
     "output_type": "stream",
     "text": [
      "3 listede\n",
      "3 listede\n",
      "3 listede\n"
     ]
    }
   ],
   "source": [
    "while 3 in listem:\n",
    "    print(\"3 listede\")\n",
    "    listem.pop()"
   ]
  },
  {
   "cell_type": "code",
   "execution_count": 10,
   "id": "84855323",
   "metadata": {},
   "outputs": [],
   "source": [
    "numara = 0"
   ]
  },
  {
   "cell_type": "code",
   "execution_count": 12,
   "id": "a897a182",
   "metadata": {},
   "outputs": [
    {
     "name": "stdout",
     "output_type": "stream",
     "text": [
      "3\n"
     ]
    }
   ],
   "source": [
    "while numara < 5:\n",
    "    if numara == 4:\n",
    "        break\n",
    "    print(numara)\n",
    "    numara = numara + 1"
   ]
  },
  {
   "cell_type": "code",
   "execution_count": 21,
   "id": "6ebc3a06",
   "metadata": {},
   "outputs": [
    {
     "name": "stdout",
     "output_type": "stream",
     "text": [
      "Güncel Değer: 0\n",
      "Güncel Değer: 1\n",
      "Güncel Değer: 2\n",
      "Güncel Değer: 3\n",
      "Güncel Değer: 4\n",
      "Güncel Değer: 5\n",
      "Güncel Değer: 6\n",
      "Güncel Değer: 7\n",
      "Güncel Değer: 8\n",
      "Güncel Değer: 9\n",
      "Güncel Değer: 10\n",
      "Güncel Değer: 11\n",
      "Güncel Değer: 12\n",
      "Güncel Değer: 13\n",
      "Güncel Değer: 14\n"
     ]
    }
   ],
   "source": [
    "degisken = 0\n",
    "while degisken < 15:\n",
    "    print(\"Güncel Değer: \" + str(degisken))   #print'in içinde string yazmak istersen\n",
    "    degisken = degisken + 1"
   ]
  },
  {
   "cell_type": "code",
   "execution_count": 27,
   "id": "36a9a45e",
   "metadata": {},
   "outputs": [
    {
     "name": "stdout",
     "output_type": "stream",
     "text": [
      "Güncel Değer: 0\n",
      "Güncel Değer: 1\n",
      "Güncel Değer: 2\n",
      "Güncel Değer: 3\n",
      "Güncel Değer: 4\n",
      "Güncel Değer: 5\n",
      "Güncel Değer: 6\n",
      "Güncel Değer: 7\n",
      "Güncel Değer: 8\n",
      "Güncel Değer: 9\n",
      "Güncel Değer: 10\n",
      "Güncel Değer: 11\n",
      "Güncel Değer: 12\n",
      "Güncel Değer: 13\n",
      "Güncel Değer: 14\n"
     ]
    }
   ],
   "source": [
    "degisken = 0\n",
    "while degisken < 15:\n",
    "    print(f\"Güncel Değer: {degisken}\")   #f kullanımı sayesinde str(int) yapmamıza gerek kalmaz\n",
    "    degisken = degisken + 1"
   ]
  },
  {
   "cell_type": "code",
   "execution_count": null,
   "id": "8ee92d69",
   "metadata": {},
   "outputs": [],
   "source": []
  },
  {
   "cell_type": "code",
   "execution_count": null,
   "id": "0023b0fe",
   "metadata": {},
   "outputs": [],
   "source": []
  }
 ],
 "metadata": {
  "kernelspec": {
   "display_name": "Python 3 (ipykernel)",
   "language": "python",
   "name": "python3"
  },
  "language_info": {
   "codemirror_mode": {
    "name": "ipython",
    "version": 3
   },
   "file_extension": ".py",
   "mimetype": "text/x-python",
   "name": "python",
   "nbconvert_exporter": "python",
   "pygments_lexer": "ipython3",
   "version": "3.9.13"
  }
 },
 "nbformat": 4,
 "nbformat_minor": 5
}
